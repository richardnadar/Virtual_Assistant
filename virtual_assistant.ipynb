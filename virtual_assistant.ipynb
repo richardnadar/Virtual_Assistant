{
 "cells": [
  {
   "cell_type": "code",
   "execution_count": 17,
   "id": "181a7c5a",
   "metadata": {},
   "outputs": [],
   "source": [
    "import numpy as np"
   ]
  },
  {
   "cell_type": "code",
   "execution_count": 18,
   "id": "82ed4e38",
   "metadata": {},
   "outputs": [],
   "source": [
    "from lingualytics.preprocessing import remove_lessthan, remove_punctuation, remove_stopwords\n",
    "from lingualytics.stopwords import hi_stopwords,en_stopwords\n",
    "from texthero.preprocessing import remove_digits\n",
    "import pandas as pd"
   ]
  },
  {
   "cell_type": "code",
   "execution_count": 19,
   "id": "624cc62b",
   "metadata": {},
   "outputs": [],
   "source": [
    "dataset = r\"C:\\Users\\ilann\\kandi\\faqs.csv\""
   ]
  },
  {
   "cell_type": "code",
   "execution_count": 20,
   "id": "92754d8d",
   "metadata": {},
   "outputs": [
    {
     "data": {
      "text/html": [
       "<div>\n",
       "<style scoped>\n",
       "    .dataframe tbody tr th:only-of-type {\n",
       "        vertical-align: middle;\n",
       "    }\n",
       "\n",
       "    .dataframe tbody tr th {\n",
       "        vertical-align: top;\n",
       "    }\n",
       "\n",
       "    .dataframe thead th {\n",
       "        text-align: right;\n",
       "    }\n",
       "</style>\n",
       "<table border=\"1\" class=\"dataframe\">\n",
       "  <thead>\n",
       "    <tr style=\"text-align: right;\">\n",
       "      <th></th>\n",
       "      <th>Q</th>\n",
       "      <th>A</th>\n",
       "    </tr>\n",
       "  </thead>\n",
       "  <tbody>\n",
       "    <tr>\n",
       "      <th>0</th>\n",
       "      <td>What is kandi?</td>\n",
       "      <td>kandi (pronounced kandee) is a platform that h...</td>\n",
       "    </tr>\n",
       "    <tr>\n",
       "      <th>1</th>\n",
       "      <td>Have feedback or want to know more?</td>\n",
       "      <td>We are a passionate set of application focused...</td>\n",
       "    </tr>\n",
       "    <tr>\n",
       "      <th>2</th>\n",
       "      <td>What components does kandi cover?</td>\n",
       "      <td>kandi helps you select software components acr...</td>\n",
       "    </tr>\n",
       "    <tr>\n",
       "      <th>3</th>\n",
       "      <td>How do I use kandi?</td>\n",
       "      <td>kandi provides two simplified experiences to h...</td>\n",
       "    </tr>\n",
       "    <tr>\n",
       "      <th>4</th>\n",
       "      <td>How do I shortlist components on kandi?</td>\n",
       "      <td>You can use the below filters to shortlist com...</td>\n",
       "    </tr>\n",
       "    <tr>\n",
       "      <th>5</th>\n",
       "      <td>How do I implement the components that I have ...</td>\n",
       "      <td>The component listing and detailed insights pa...</td>\n",
       "    </tr>\n",
       "  </tbody>\n",
       "</table>\n",
       "</div>"
      ],
      "text/plain": [
       "                                                   Q  \\\n",
       "0                                     What is kandi?   \n",
       "1                Have feedback or want to know more?   \n",
       "2                  What components does kandi cover?   \n",
       "3                                How do I use kandi?   \n",
       "4            How do I shortlist components on kandi?   \n",
       "5  How do I implement the components that I have ...   \n",
       "\n",
       "                                                   A  \n",
       "0  kandi (pronounced kandee) is a platform that h...  \n",
       "1  We are a passionate set of application focused...  \n",
       "2  kandi helps you select software components acr...  \n",
       "3  kandi provides two simplified experiences to h...  \n",
       "4  You can use the below filters to shortlist com...  \n",
       "5  The component listing and detailed insights pa...  "
      ]
     },
     "execution_count": 20,
     "metadata": {},
     "output_type": "execute_result"
    }
   ],
   "source": [
    "df = pd.read_csv(dataset, encoding_errors=\"ignore\")\n",
    "df"
   ]
  },
  {
   "cell_type": "code",
   "execution_count": 21,
   "id": "923df4b8",
   "metadata": {},
   "outputs": [
    {
     "name": "stdout",
     "output_type": "stream",
     "text": [
      "                                                   Q  \\\n",
      "0                                     What is kandi?   \n",
      "1                Have feedback or want to know more?   \n",
      "2                  What components does kandi cover?   \n",
      "3                                How do I use kandi?   \n",
      "4            How do I shortlist components on kandi?   \n",
      "5  How do I implement the components that I have ...   \n",
      "\n",
      "                                                   A  \\\n",
      "0  kandi (pronounced kandee) is a platform that h...   \n",
      "1  We are a passionate set of application focused...   \n",
      "2  kandi helps you select software components acr...   \n",
      "3  kandi provides two simplified experiences to h...   \n",
      "4  You can use the below filters to shortlist com...   \n",
      "5  The component listing and detailed insights pa...   \n",
      "\n",
      "                                             clean_Q  \n",
      "0                                     What is kandi   \n",
      "1                Have feedback or want to know more   \n",
      "2                  What components does kandi cover   \n",
      "3                                How do I use kandi   \n",
      "4            How do I shortlist components on kandi   \n",
      "5  How do I implement the components that I have ...  \n"
     ]
    },
    {
     "name": "stderr",
     "output_type": "stream",
     "text": [
      "C:\\Users\\ilann\\anaconda3\\envs\\tensorflow\\lib\\site-packages\\lingualytics\\preprocessing.py:9: FutureWarning: The default value of regex will change from True to False in a future version.\n",
      "  return s.str.replace(rf\"([{punctuation}])+\", \" \")\n"
     ]
    }
   ],
   "source": [
    "#Data preprocessing (removing punctautions and stopwords)\n",
    "\n",
    "# pd.set_option('display.max_colwidth', None)\n",
    "df['clean_Q'] = df['Q'].pipe(remove_digits) \\\n",
    "                                    .pipe(remove_punctuation) \\\n",
    "#                                   .pipe(remove_lessthan,length=3) \\\n",
    "#                                    .pipe(remove_stopwords,stopwords=en_stopwords.union(hi_stopwords))\n",
    "print(df)"
   ]
  },
  {
   "cell_type": "code",
   "execution_count": 22,
   "id": "1853cd1e",
   "metadata": {},
   "outputs": [],
   "source": [
    "#Compute embedding for sentences/training the model\n",
    "from sentence_transformers import SentenceTransformer\n",
    "model = SentenceTransformer('all-MiniLM-L6-v2')"
   ]
  },
  {
   "cell_type": "code",
   "execution_count": 23,
   "id": "55649f95",
   "metadata": {},
   "outputs": [
    {
     "name": "stderr",
     "output_type": "stream",
     "text": [
      "C:\\Users\\ilann\\anaconda3\\envs\\tensorflow\\lib\\site-packages\\transformers\\tokenization_utils_base.py:2227: UserWarning: `max_length` is ignored when `padding`=`True`.\n",
      "  warnings.warn(\"`max_length` is ignored when `padding`=`True`.\")\n"
     ]
    }
   ],
   "source": [
    "Q_embedded = model.encode(df['clean_Q'], convert_to_tensor=True)"
   ]
  },
  {
   "cell_type": "code",
   "execution_count": 24,
   "id": "dff16654",
   "metadata": {},
   "outputs": [
    {
     "data": {
      "text/plain": [
       "torch.Size([6, 384])"
      ]
     },
     "execution_count": 24,
     "metadata": {},
     "output_type": "execute_result"
    }
   ],
   "source": [
    "Q_embedded.shape"
   ]
  },
  {
   "cell_type": "code",
   "execution_count": 25,
   "id": "0e1fd1eb",
   "metadata": {},
   "outputs": [],
   "source": [
    "#get user query\n",
    "user_query = \"tell me about kandi\""
   ]
  },
  {
   "cell_type": "code",
   "execution_count": 26,
   "id": "0237fd1a",
   "metadata": {},
   "outputs": [
    {
     "data": {
      "text/html": [
       "<div>\n",
       "<style scoped>\n",
       "    .dataframe tbody tr th:only-of-type {\n",
       "        vertical-align: middle;\n",
       "    }\n",
       "\n",
       "    .dataframe tbody tr th {\n",
       "        vertical-align: top;\n",
       "    }\n",
       "\n",
       "    .dataframe thead th {\n",
       "        text-align: right;\n",
       "    }\n",
       "</style>\n",
       "<table border=\"1\" class=\"dataframe\">\n",
       "  <thead>\n",
       "    <tr style=\"text-align: right;\">\n",
       "      <th></th>\n",
       "      <th>user_query</th>\n",
       "    </tr>\n",
       "  </thead>\n",
       "  <tbody>\n",
       "    <tr>\n",
       "      <th>0</th>\n",
       "      <td>tell me about kandi</td>\n",
       "    </tr>\n",
       "  </tbody>\n",
       "</table>\n",
       "</div>"
      ],
      "text/plain": [
       "            user_query\n",
       "0  tell me about kandi"
      ]
     },
     "execution_count": 26,
     "metadata": {},
     "output_type": "execute_result"
    }
   ],
   "source": [
    "#compute embeddings for user query\n",
    "df_user_query = pd.DataFrame([user_query], columns=[\"user_query\"])\n",
    "df_user_query"
   ]
  },
  {
   "cell_type": "code",
   "execution_count": 30,
   "id": "1954066b",
   "metadata": {},
   "outputs": [
    {
     "name": "stderr",
     "output_type": "stream",
     "text": [
      "C:\\Users\\ilann\\anaconda3\\envs\\tensorflow\\lib\\site-packages\\lingualytics\\preprocessing.py:9: FutureWarning: The default value of regex will change from True to False in a future version.\n",
      "  return s.str.replace(rf\"([{punctuation}])+\", \" \")\n"
     ]
    },
    {
     "data": {
      "text/html": [
       "<div>\n",
       "<style scoped>\n",
       "    .dataframe tbody tr th:only-of-type {\n",
       "        vertical-align: middle;\n",
       "    }\n",
       "\n",
       "    .dataframe tbody tr th {\n",
       "        vertical-align: top;\n",
       "    }\n",
       "\n",
       "    .dataframe thead th {\n",
       "        text-align: right;\n",
       "    }\n",
       "</style>\n",
       "<table border=\"1\" class=\"dataframe\">\n",
       "  <thead>\n",
       "    <tr style=\"text-align: right;\">\n",
       "      <th></th>\n",
       "      <th>user_query</th>\n",
       "      <th>clean_user_Q</th>\n",
       "    </tr>\n",
       "  </thead>\n",
       "  <tbody>\n",
       "    <tr>\n",
       "      <th>0</th>\n",
       "      <td>tell me about kandi</td>\n",
       "      <td>tell me about kandi</td>\n",
       "    </tr>\n",
       "  </tbody>\n",
       "</table>\n",
       "</div>"
      ],
      "text/plain": [
       "            user_query         clean_user_Q\n",
       "0  tell me about kandi  tell me about kandi"
      ]
     },
     "execution_count": 30,
     "metadata": {},
     "output_type": "execute_result"
    }
   ],
   "source": [
    "#takes input in data frame format\n",
    "df_user_query['clean_user_Q'] = df_user_query['user_query'].pipe(remove_digits) \\\n",
    "                                    .pipe(remove_punctuation)\n",
    "df_user_query"
   ]
  },
  {
   "cell_type": "code",
   "execution_count": 33,
   "id": "b8f20028",
   "metadata": {},
   "outputs": [
    {
     "data": {
      "text/plain": [
       "torch.Size([1, 384])"
      ]
     },
     "execution_count": 33,
     "metadata": {},
     "output_type": "execute_result"
    }
   ],
   "source": [
    "user_Q_embedded = model.encode(df_user_query['clean_user_Q'], convert_to_tensor=True)\n",
    "user_Q_embedded.shape"
   ]
  },
  {
   "cell_type": "code",
   "execution_count": 44,
   "id": "49298ed5",
   "metadata": {},
   "outputs": [
    {
     "data": {
      "text/plain": [
       "tensor([[ 6.9899e-02,  9.4276e-03, -1.3369e-02,  4.0351e-02,  5.2212e-03,\n",
       "          3.5141e-02,  8.5067e-02, -9.9379e-03, -3.9313e-02,  5.8849e-02,\n",
       "          1.0085e-01, -5.3544e-02, -2.2394e-02, -5.1937e-02,  3.0627e-02,\n",
       "         -4.6265e-02,  3.4853e-02,  2.8061e-02, -7.2037e-02, -2.9808e-02,\n",
       "         -6.2095e-02, -1.0985e-02, -6.8197e-03, -4.0744e-02, -4.1265e-02,\n",
       "         -4.2136e-02,  7.0115e-02, -7.3623e-02, -6.7594e-03,  1.1053e-03,\n",
       "         -5.2180e-02,  1.7913e-02,  3.9321e-02,  5.7513e-02, -2.3647e-02,\n",
       "          8.5967e-03,  6.0631e-02,  3.5874e-02,  5.3394e-03, -2.3639e-02,\n",
       "         -2.4127e-02, -7.1573e-02, -2.6738e-03, -5.7618e-02,  4.4879e-02,\n",
       "         -6.6413e-02, -4.1006e-02, -3.1347e-02, -3.0792e-02,  1.5158e-02,\n",
       "         -3.4194e-02,  4.8126e-02,  5.7961e-02, -4.6704e-02,  4.0438e-02,\n",
       "          3.5611e-03, -3.4743e-03, -1.7984e-02,  7.4855e-02, -4.7505e-02,\n",
       "          3.7020e-02, -6.1809e-03,  5.3995e-02, -4.4603e-02,  3.1403e-02,\n",
       "         -1.5275e-01, -3.1960e-03,  6.8101e-03,  3.7769e-02, -3.5562e-02,\n",
       "          1.0759e-01, -9.0540e-03,  1.3307e-02, -4.2598e-02, -2.3754e-02,\n",
       "         -5.4515e-02, -3.3994e-02, -4.8866e-03,  1.2721e-02,  6.8921e-04,\n",
       "          2.3624e-02,  2.1038e-02,  3.3211e-02, -1.5340e-02, -3.1983e-02,\n",
       "          5.8242e-02,  5.5822e-02, -6.9472e-02, -4.2151e-02,  1.3398e-03,\n",
       "          9.3751e-02, -3.3275e-03, -6.8820e-02, -3.4046e-02, -8.0361e-02,\n",
       "         -7.9256e-02,  6.5158e-02,  3.4274e-02, -4.1743e-02,  5.4715e-02,\n",
       "         -4.2466e-02,  5.9133e-02,  2.2170e-04, -6.0858e-02, -1.3448e-01,\n",
       "         -5.2592e-02,  9.7741e-02, -5.0273e-02,  1.6698e-03, -1.7546e-02,\n",
       "         -7.3851e-02, -1.1660e-02, -7.7367e-02,  5.0658e-03,  7.1382e-02,\n",
       "          1.2589e-02,  2.6917e-02,  4.3850e-02, -9.5463e-04,  4.0632e-02,\n",
       "          6.2539e-02, -3.1697e-02, -3.7820e-02,  1.0889e-01, -2.4596e-02,\n",
       "         -5.5218e-02,  3.5497e-02, -4.2670e-33,  4.7064e-03, -4.6500e-02,\n",
       "          3.6468e-02,  6.9649e-02,  3.4341e-02, -5.1129e-02, -4.2660e-02,\n",
       "         -7.6562e-02, -5.5095e-02, -4.2075e-02, -3.5628e-02, -3.6635e-02,\n",
       "         -4.1248e-02,  1.1627e-02,  5.0883e-02,  9.1126e-02, -1.5134e-01,\n",
       "          1.5749e-02,  5.1719e-02,  1.3005e-02,  8.0767e-02,  7.6900e-02,\n",
       "          1.1585e-02, -3.2899e-02, -2.0688e-03, -5.3401e-03,  1.4166e-02,\n",
       "         -4.6662e-02,  9.1466e-02,  5.6705e-02,  2.2224e-02,  1.7345e-02,\n",
       "         -2.1798e-02, -1.9329e-03, -2.5073e-02,  8.7753e-02, -3.1266e-02,\n",
       "         -2.3211e-02, -9.6711e-02, -1.8739e-02,  6.3328e-03,  6.7089e-03,\n",
       "         -6.4260e-02, -5.2311e-02, -7.8341e-02, -2.4786e-02,  7.9845e-02,\n",
       "         -3.4550e-02,  3.0603e-02, -2.6740e-02, -5.9419e-02,  7.4773e-03,\n",
       "         -3.8363e-02, -9.2356e-03,  2.7366e-02,  3.0662e-02,  3.4570e-02,\n",
       "         -6.5189e-02,  6.6073e-02,  7.0494e-02, -5.7245e-02, -4.5342e-02,\n",
       "         -7.3002e-02,  1.3804e-02, -7.3864e-02, -1.9284e-02, -7.7005e-03,\n",
       "         -4.5582e-02,  5.7077e-02, -8.8237e-02, -6.6575e-02,  5.9362e-03,\n",
       "         -2.2552e-02, -1.0338e-02, -1.0305e-01,  6.6029e-03,  2.6323e-02,\n",
       "         -1.9290e-02, -6.2036e-02,  6.3284e-02, -6.2159e-02,  9.1841e-02,\n",
       "          1.7332e-02, -6.0276e-02,  5.9851e-02,  2.3060e-02, -4.9573e-02,\n",
       "         -5.3448e-02, -4.2934e-02,  4.9507e-02,  6.6188e-02,  2.3243e-02,\n",
       "          4.7555e-02, -9.0727e-02, -2.3699e-02,  9.2472e-34, -5.2787e-02,\n",
       "          1.4394e-02, -2.5436e-02, -1.8888e-02,  6.1338e-02, -1.4838e-02,\n",
       "         -2.5857e-02,  9.8386e-02,  4.4450e-02, -8.6474e-02, -2.6154e-02,\n",
       "         -6.5242e-03,  5.4693e-02,  3.2709e-02,  5.5135e-02,  4.0602e-02,\n",
       "          9.7257e-02,  3.0925e-02, -9.0813e-03,  2.7536e-03, -4.3906e-03,\n",
       "          1.0840e-02, -4.7709e-02, -9.3994e-02, -1.8547e-02,  6.4460e-02,\n",
       "         -5.5968e-02,  3.3706e-02, -7.5540e-02, -4.6005e-02,  8.8718e-02,\n",
       "         -4.2604e-02, -6.6898e-02,  5.2973e-02, -2.4133e-02, -2.2714e-02,\n",
       "         -5.2028e-02,  4.5414e-02,  4.2070e-02,  8.1784e-02,  1.4161e-02,\n",
       "         -1.1742e-02,  1.3038e-02,  3.1206e-02,  1.6332e-03, -5.8300e-02,\n",
       "          5.4698e-02,  4.6229e-02,  1.1979e-02, -4.8373e-02,  5.9754e-02,\n",
       "         -4.6860e-02, -1.0200e-03, -4.7170e-02,  1.3583e-01,  1.0717e-02,\n",
       "          8.1516e-03,  5.9875e-02, -1.5619e-02,  1.1630e-02, -8.4211e-03,\n",
       "          1.2419e-02,  6.5857e-02,  1.3442e-01, -2.8196e-02,  2.1405e-03,\n",
       "          2.5753e-02, -5.6004e-03, -4.7230e-02, -1.3254e-01,  4.0266e-02,\n",
       "          3.7923e-02, -5.0617e-02,  1.2021e-01, -4.0811e-02, -7.9215e-02,\n",
       "         -9.4620e-02,  8.4549e-02,  7.5021e-02,  2.2333e-02, -2.8928e-02,\n",
       "         -2.3620e-02, -9.0860e-02, -2.4814e-02,  9.4949e-03,  1.0060e-01,\n",
       "          5.3763e-02, -1.4058e-02,  8.5567e-02, -7.5763e-02, -5.6707e-03,\n",
       "         -7.9026e-03,  1.8639e-02,  7.2334e-03,  3.0703e-02, -1.3794e-08,\n",
       "         -1.5855e-02, -8.8066e-02, -6.3155e-03, -4.3075e-02, -2.0448e-02,\n",
       "          5.2633e-03,  2.5514e-02,  1.2835e-03, -3.2003e-02,  4.1036e-02,\n",
       "          6.9908e-02,  1.0438e-01, -2.5387e-02, -2.2350e-02,  8.7905e-02,\n",
       "         -2.1815e-02,  5.4077e-02,  5.4593e-02, -1.4640e-02, -2.8028e-02,\n",
       "         -3.1670e-02,  4.5164e-02,  3.6272e-02, -5.2624e-02, -2.0365e-02,\n",
       "          4.8652e-02,  8.1488e-03, -2.3110e-02,  2.5320e-03, -9.5000e-02,\n",
       "          5.2896e-02,  2.2585e-02, -5.5794e-02, -2.2633e-02, -2.0344e-02,\n",
       "          3.7501e-02,  1.0074e-02,  1.9379e-03, -1.2110e-02,  5.2167e-02,\n",
       "          3.6803e-02,  8.8457e-02,  1.9674e-02,  1.5110e-02,  1.9460e-02,\n",
       "          5.9674e-02, -3.3288e-02, -5.1545e-02, -6.4709e-02, -4.2163e-02,\n",
       "         -1.1698e-01,  5.4197e-02,  3.1570e-02,  9.4052e-02,  8.3774e-03,\n",
       "          3.8614e-02, -5.3102e-02, -2.9175e-03, -8.1401e-02,  1.6833e-02,\n",
       "          4.2317e-02,  2.0618e-02, -1.0322e-02,  7.5628e-02]])"
      ]
     },
     "execution_count": 44,
     "metadata": {},
     "output_type": "execute_result"
    }
   ],
   "source": [
    "user_Q_embedded"
   ]
  },
  {
   "cell_type": "code",
   "execution_count": 32,
   "id": "7fe8748a",
   "metadata": {},
   "outputs": [],
   "source": [
    "#compute cosine similarities - user queries vs dataset queries\n",
    "import torch\n",
    "cos_fn = torch.nn.CosineSimilarity(dim=1, eps=1e-6)"
   ]
  },
  {
   "cell_type": "code",
   "execution_count": 35,
   "id": "93773ef6",
   "metadata": {},
   "outputs": [
    {
     "data": {
      "text/plain": [
       "tensor([0.8420, 0.1320, 0.6204, 0.7314, 0.4508, 0.5415])"
      ]
     },
     "execution_count": 35,
     "metadata": {},
     "output_type": "execute_result"
    }
   ],
   "source": [
    "cos_fn(user_Q_embedded, Q_embedded)"
   ]
  },
  {
   "cell_type": "code",
   "execution_count": 37,
   "id": "e27de8c7",
   "metadata": {},
   "outputs": [],
   "source": [
    "#found the index which has the most similarity\n",
    "index = np.argmax(cos_fn(user_Q_embedded, Q_embedded)).item()"
   ]
  },
  {
   "cell_type": "code",
   "execution_count": 38,
   "id": "011f8465",
   "metadata": {},
   "outputs": [
    {
     "data": {
      "text/plain": [
       "'kandi (pronounced kandee) is a platform that helps developers pick the right library, package, code samples, APIs, and cloud functions, by analyzing over 430 million knowledge items.'"
      ]
     },
     "execution_count": 38,
     "metadata": {},
     "output_type": "execute_result"
    }
   ],
   "source": [
    "df['A'][index]"
   ]
  },
  {
   "cell_type": "code",
   "execution_count": 41,
   "id": "9441bf21",
   "metadata": {},
   "outputs": [],
   "source": [
    "def predictions(user_query):\n",
    "    df_user_query = pd.DataFrame([user_query], columns=[\"user_query\"])\n",
    "    df_user_query['clean_user_Q'] = df_user_query['user_query'].pipe(remove_digits) \\\n",
    "                                    .pipe(remove_punctuation)\n",
    "    user_Q_embedded = model.encode(df_user_query['clean_user_Q'], convert_to_tensor=True)\n",
    "    cos_fn = torch.nn.CosineSimilarity(dim=1, eps=1e-6)\n",
    "    index = np.argmax(cos_fn(user_Q_embedded, Q_embedded)).item()\n",
    "    return df['A'][index]"
   ]
  },
  {
   "cell_type": "code",
   "execution_count": 43,
   "id": "521c88e6",
   "metadata": {},
   "outputs": [
    {
     "name": "stdout",
     "output_type": "stream",
     "text": [
      "Ask your query: tell me about kandi\n"
     ]
    },
    {
     "name": "stderr",
     "output_type": "stream",
     "text": [
      "C:\\Users\\ilann\\anaconda3\\envs\\tensorflow\\lib\\site-packages\\lingualytics\\preprocessing.py:9: FutureWarning: The default value of regex will change from True to False in a future version.\n",
      "  return s.str.replace(rf\"([{punctuation}])+\", \" \")\n"
     ]
    },
    {
     "name": "stdout",
     "output_type": "stream",
     "text": [
      "kandi (pronounced kandee) is a platform that helps developers pick the right library, package, code samples, APIs, and cloud functions, by analyzing over 430 million knowledge items.\n",
      "~~~~~~~~~~~~~~~~~\n",
      "Ask your query: tell me about kandi!\n",
      "kandi (pronounced kandee) is a platform that helps developers pick the right library, package, code samples, APIs, and cloud functions, by analyzing over 430 million knowledge items.\n",
      "~~~~~~~~~~~~~~~~~\n",
      "Ask your query: close\n",
      "We are a passionate set of application focused techies. Wed love to hear from you on your feedback, questions, and any other comments.\n",
      "Direct Message us on Twitter Message @OpenWeaverInc\n",
      "You can email us at kandi.support@openweaver.com\n",
      "Join our Discord community here\n",
      "~~~~~~~~~~~~~~~~~\n",
      "Ask your query: exit\n"
     ]
    }
   ],
   "source": [
    "while True:\n",
    "    user_query = input(\"Ask your query: \")\n",
    "    if user_query == \"exit\" or \"close\":\n",
    "        break\n",
    "    else:\n",
    "        print(predictions(user_query))\n",
    "        print(\"~~~~~~~~~~~~~~~~~\")"
   ]
  },
  {
   "cell_type": "code",
   "execution_count": null,
   "id": "7e16c703",
   "metadata": {},
   "outputs": [],
   "source": []
  }
 ],
 "metadata": {
  "kernelspec": {
   "display_name": "Python 3.8 (tensorflow)",
   "language": "python",
   "name": "tensorflow"
  },
  "language_info": {
   "codemirror_mode": {
    "name": "ipython",
    "version": 3
   },
   "file_extension": ".py",
   "mimetype": "text/x-python",
   "name": "python",
   "nbconvert_exporter": "python",
   "pygments_lexer": "ipython3",
   "version": "3.8.11"
  }
 },
 "nbformat": 4,
 "nbformat_minor": 5
}
